{
  "nbformat": 4,
  "nbformat_minor": 0,
  "metadata": {
    "kernelspec": {
      "display_name": "Python 3",
      "language": "python",
      "name": "python3"
    },
    "language_info": {
      "codemirror_mode": {
        "name": "ipython",
        "version": 3
      },
      "file_extension": ".py",
      "mimetype": "text/x-python",
      "name": "python",
      "nbconvert_exporter": "python",
      "pygments_lexer": "ipython3",
      "version": "3.7.4"
    },
    "varInspector": {
      "cols": {
        "lenName": 16,
        "lenType": 16,
        "lenVar": 40
      },
      "kernels_config": {
        "python": {
          "delete_cmd_postfix": "",
          "delete_cmd_prefix": "del ",
          "library": "var_list.py",
          "varRefreshCmd": "print(var_dic_list())"
        },
        "r": {
          "delete_cmd_postfix": ") ",
          "delete_cmd_prefix": "rm(",
          "library": "var_list.r",
          "varRefreshCmd": "cat(var_dic_list()) "
        }
      },
      "types_to_exclude": [
        "module",
        "function",
        "builtin_function_or_method",
        "instance",
        "_Feature"
      ],
      "window_display": false
    },
    "colab": {
      "name": "알고리즘 연습_2장.ipynb",
      "provenance": [],
      "collapsed_sections": [],
      "include_colab_link": true
    }
  },
  "cells": [
    {
      "cell_type": "markdown",
      "metadata": {
        "id": "view-in-github",
        "colab_type": "text"
      },
      "source": [
        "<a href=\"https://colab.research.google.com/github/KimJae-hee/studying-algorithms/blob/main/%EC%95%8C%EA%B3%A0%EB%A6%AC%EC%A6%98_%EC%97%B0%EC%8A%B5_2%EC%9E%A5.ipynb\" target=\"_parent\"><img src=\"https://colab.research.google.com/assets/colab-badge.svg\" alt=\"Open In Colab\"/></a>"
      ]
    },
    {
      "cell_type": "markdown",
      "metadata": {
        "id": "mgpGU137WJy1"
      },
      "source": [
        "## 1. Insertion Sort 구현"
      ]
    },
    {
      "cell_type": "code",
      "metadata": {
        "id": "yz47-GSnWJy4",
        "outputId": "cf5e0264-edfa-4f70-fd8b-b9defe5cd39e"
      },
      "source": [
        "a = [5, 2, 4, 6, 1, 3]\n",
        "range(1, len(a))"
      ],
      "execution_count": null,
      "outputs": [
        {
          "output_type": "execute_result",
          "data": {
            "text/plain": [
              "range(1, 6)"
            ]
          },
          "metadata": {
            "tags": []
          },
          "execution_count": 2
        }
      ]
    },
    {
      "cell_type": "code",
      "metadata": {
        "id": "rxqk7E-TWJzA"
      },
      "source": [
        "def insertion_sort(x):\n",
        "    for i in range(1, len(x)):\n",
        "        key = x[i]\n",
        "        j = i-1\n",
        "        while j >= 0 and x[j] > key:\n",
        "            x[j+1] = x[j]\n",
        "            j -= 1\n",
        "        x[j + 1] = key\n",
        "    return x"
      ],
      "execution_count": null,
      "outputs": []
    },
    {
      "cell_type": "code",
      "metadata": {
        "id": "Wp8E8u5gWJzG"
      },
      "source": [
        "insertion_sort(a)"
      ],
      "execution_count": null,
      "outputs": []
    },
    {
      "cell_type": "markdown",
      "metadata": {
        "id": "OYMtMqmZWJzM"
      },
      "source": [
        "## 2. 소요시간"
      ]
    },
    {
      "cell_type": "markdown",
      "metadata": {
        "id": "Ln5U_Z03WJzN"
      },
      "source": [
        "##### 알고리즘에 대해 평가하기 위해서는 소요 시간에 대해 고려해야한다. \n",
        "##### instertion sort의 소요 시간은 최적의 경우(이미 오름차순으로 정렬된 경우) 1차 선형회귀식으로 생각할 수 있고, \n",
        "##### 최악의 경우(내림차순으로 정렬된 경우) 2차 식으로 생각할 수 있다. \n",
        "##### 알고리즘 간 비교를 위해서는 최악의 경우에서 소요 시간을 고려한다. 왜냐하면 첫째, 최악의 경우보다 시간이 더 걸릴 리는 없기 때문이다. 두번째, 특정 알고리즘들은 최악의 경우가 빈번히 발생하기 때문이다(자료 탐색 알고리즘의 경우, 자료가 데이터 베이스에 없는 경우가 빈번하다). 마직막으로 평균의 경우에도 최악의 경우와 함수가 똑같이 생겼기 때문이다(insertion sort)의 경우  자료가 랜덤하게 배치된 경우, 그 소요 시간은 2차식의 형태를 띄게 된다. \n"
      ]
    },
    {
      "cell_type": "markdown",
      "metadata": {
        "id": "DyMUbnmHWJzO"
      },
      "source": [
        "## 3. Incremental 접근과 Divide-and-Conquer \n",
        "###### Insertion sort는 각각의 부분을 비교하여, 해당 부분이 조건에 해당할 경우에 변화하는 Incremental 접근법을 사용한다. 하지만 4장에서 다루게 될 Divide-and-Conquer는 두가지 장점을 가진다. 첫번째로, 최악의 경우에도 Incremental 접근법에 비해 소요 시간이 짧고, 소요 시간을 계산하는 방법이 간단하다는 것이다. "
      ]
    },
    {
      "cell_type": "markdown",
      "metadata": {
        "id": "iuxmpuJvWJzP"
      },
      "source": [
        "## 4. Divide-and-Conquer\n",
        "### Divide-and-Conquer 알고리즘의 기본 개념은, 하나의 문제를 다양한 하위 문제로 분할하여 반복한다는 점이다. 그리고 이러한 하위 문제의 해답을 종합하여 전체 해답으로 사용한다. 이 점은 트리 기반 머신 러닝 기법에서 사용하는 방법과 비슷한 것 같다. \n",
        "\n",
        "### Divide-and-Conquer 알고리즘은 세가지 요소로 구성되어 있다. \n",
        "#### 1. Divide - 우선 문제를 몇 개의 작은 데이터를 가지고 동일한 문제로 분할한다. \n",
        "#### 2. Conquer - 나눈 하위 문제들을 풀어낸다. 만약 나누어진 하위 문제들이 충분히 작다면, 직관적인 방법을 통해 문제를 푼다(트리 기반 모델에서 최종 노드를 하나의 집단으로 상정하는 것과 같은 맥락인듯).\n",
        "#### 3. Combine - 하위 문제들의 해답을 모두 합쳐 전체 문제의 해답으로 한다. \n",
        "\n",
        "###### Divide-and-Conquer 알고리즘을 사용하는 대표적인 알고리즘은 Merge Sort 알고리즘이 있다. 이 알고리즘은 다음과 같다. \n",
        "#### 1. Divide - n개의 요소를 n/2 개의 요소로 두 개로 분류한다. \n",
        "#### 2. Conquer - 반복적으로 divide된 결과들을 분류한다. \n",
        "#### 3. Combine - 최종적으로 나뉘어진 요소들은 sort된 요소들이다. 그러므로 이를 순차적으로 merge 하면 분류 완료. \n",
        "\n",
        "##### Merge Sort 알고리즘은 직관적인 소요 시간을 가진다. 왜냐하면 이 알고리즘은 두 요소의 크기만 반복적으로 비교하면 되기 때문이다. "
      ]
    },
    {
      "cell_type": "markdown",
      "metadata": {
        "id": "7r4neHyMWJzQ"
      },
      "source": [
        "## 4. Merge Sort 알고리즘 구현"
      ]
    },
    {
      "cell_type": "code",
      "metadata": {
        "id": "uXe0J68cWJzR"
      },
      "source": [
        " def merge_sort(A, p, q, r):\n",
        "    n1 = q - p + 1\n",
        "    n2 = r - q\n",
        "\n",
        "    L = A[p:q]\n",
        "    R = A[q:r]\n",
        "\n",
        "    L.append(10000000000)\n",
        "    R.append(10000000000)    \n",
        "    i = 0\n",
        "    j = 0\n",
        "    for k in range(p, r):\n",
        "        if L[i] < R[j]:\n",
        "            A[k] = L[i]\n",
        "            i += 1\n",
        "        else: \n",
        "            A[k] = R[j]\n",
        "            j += 1\n",
        "    return A"
      ],
      "execution_count": 66,
      "outputs": []
    },
    {
      "cell_type": "code",
      "metadata": {
        "id": "hlBSKE7eWJzX",
        "outputId": "667018e3-f041-4765-b35a-25520729905c",
        "colab": {
          "base_uri": "https://localhost:8080/",
          "height": 35
        }
      },
      "source": [
        "a = [45, 3,6,2346, 5, 41, 456,8, 89 ,46, 2, 47, 90, 23, 25, 85, 52]"
      ],
      "execution_count": 67,
      "outputs": [
        {
          "output_type": "execute_result",
          "data": {
            "text/plain": [
              "17"
            ]
          },
          "metadata": {
            "tags": []
          },
          "execution_count": 67
        }
      ]
    },
    {
      "cell_type": "code",
      "metadata": {
        "id": "1iTgOYCWWJzb",
        "outputId": "9ece9aa8-ec2e-485d-f52d-dd916158c728",
        "colab": {
          "base_uri": "https://localhost:8080/",
          "height": 35
        }
      },
      "source": [
        "merge_sort(a, 0, 8, 15)"
      ],
      "execution_count": 68,
      "outputs": [
        {
          "output_type": "execute_result",
          "data": {
            "text/plain": [
              "[45, 3, 6, 89, 46, 2, 47, 90, 23, 25, 2346, 5, 41, 456, 8, 85, 52]"
            ]
          },
          "metadata": {
            "tags": []
          },
          "execution_count": 68
        }
      ]
    }
  ]
}